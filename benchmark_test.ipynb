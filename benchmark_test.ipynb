{
 "cells": [
  {
   "cell_type": "markdown",
   "metadata": {},
   "source": [
    "# Benchmark FastText vs PyTorch sur APE"
   ]
  },
  {
   "cell_type": "markdown",
   "metadata": {
    "vscode": {
     "languageId": "plaintext"
    }
   },
   "source": [
    "## Environnement"
   ]
  },
  {
   "cell_type": "code",
   "execution_count": null,
   "metadata": {},
   "outputs": [],
   "source": [
    "from pathlib import Path\n",
    "import sys\n",
    "import s3fs\n",
    "from typing import List, Optional, Dict\n",
    "import pandas as pd\n",
    "import numpy as np\n",
    "import random\n",
    "from sklearn.model_selection import train_test_split\n",
    "from sklearn.preprocessing import LabelEncoder\n",
    "import mlflow\n",
    "import pyarrow.parquet as pq\n",
    "from src.preprocess import clean_text_feature\n",
    "import fasttext\n",
    "import warnings\n",
    "import nltk\n",
    "nltk.download('stopwords')"
   ]
  },
  {
   "cell_type": "code",
   "execution_count": null,
   "metadata": {},
   "outputs": [],
   "source": [
    "pd.set_option('display.max_columns', None)\n",
    "warnings.filterwarnings(\"ignore\")\n",
    "np.random.seed(0)\n",
    "random.seed(0)"
   ]
  },
  {
   "cell_type": "markdown",
   "metadata": {},
   "source": [
    "MLflow"
   ]
  },
  {
   "cell_type": "code",
   "execution_count": null,
   "metadata": {},
   "outputs": [],
   "source": [
    "# remote_server_uri = sys.argv[1]\n",
    "# experiment_name = sys.argv[2]\n",
    "# run_name = sys.argv[3]\n"
   ]
  },
  {
   "cell_type": "markdown",
   "metadata": {},
   "source": [
    "Hyper-paramètres"
   ]
  },
  {
   "cell_type": "code",
   "execution_count": null,
   "metadata": {},
   "outputs": [],
   "source": [
    "params={\n",
    "    \"y_name\": \"nace\",\n",
    "    \"text_feature\": \"text\",\n",
    "    \"df_sample_size\": 1000,\n",
    "    \"max_epochs\": 50,\n",
    "    \"train_proportion\": 0.8,\n",
    "    \"lr\": 0.2,\n",
    "    \"buckets\": 2000000,\n",
    "    \"dim\": 180,\n",
    "    \"minCount\": 3,\n",
    "    \"minn\": 3,\n",
    "    \"maxn\": 4,\n",
    "    \"wordNgrams\": 3,\n",
    "    \"ft_thread\": 100,\n",
    "    \"ft_loss\": \"ova\",\n",
    "}"
   ]
  },
  {
   "cell_type": "markdown",
   "metadata": {},
   "source": [
    "Data"
   ]
  },
  {
   "cell_type": "code",
   "execution_count": null,
   "metadata": {},
   "outputs": [],
   "source": [
    "fs = s3fs.S3FileSystem(\n",
    "    client_kwargs={\"endpoint_url\": \"https://minio.lab.sspcloud.fr\"}, anon=True\n",
    ")\n",
    "df = (\n",
    "    pq.ParquetDataset(\n",
    "        \"projet-formation/diffusion/mlops/data/firm_activity_data.parquet\",\n",
    "        filesystem=fs,\n",
    "    )\n",
    "    .read_pandas()\n",
    "    .to_pandas()\n",
    ")\n"
   ]
  },
  {
   "cell_type": "code",
   "execution_count": null,
   "metadata": {},
   "outputs": [],
   "source": [
    "print(f\"Nombre de valeurs vide : {(df[params[\"y_name\"]]==\"\").sum()}\")\n",
    "print(f\"Nombre de valeurs NA : {df[\"nace\"].isna().sum()}\")\n",
    "\n",
    "counts = df[params[\"y_name\"]].value_counts()\n",
    "modalites_suffisantes = counts[counts >= 5].index\n",
    "df = df[df[params[\"y_name\"]].isin(modalites_suffisantes)]\n",
    "\n",
    "df = df.sample(params[\"df_sample_size\"], random_state=123)\n"
   ]
  },
  {
   "cell_type": "code",
   "execution_count": null,
   "metadata": {},
   "outputs": [],
   "source": [
    "# Clean text feature\n",
    "df = clean_text_feature(df, text_feature=\"text\")\n",
    "\n",
    "# Encode classes\n",
    "encoder = LabelEncoder()\n",
    "df[params[\"y_name\"]] = encoder.fit_transform(df[params[\"y_name\"]])"
   ]
  },
  {
   "cell_type": "code",
   "execution_count": null,
   "metadata": {},
   "outputs": [],
   "source": [
    "df\n"
   ]
  },
  {
   "cell_type": "code",
   "execution_count": null,
   "metadata": {},
   "outputs": [],
   "source": [
    "X_train, X_val, y_train, y_val = train_test_split(\n",
    "    df[params[\"text_feature\"]],\n",
    "    df[params[\"y_name\"]],\n",
    "    test_size=1 - params[\"train_proportion\"],\n",
    "    random_state=0,\n",
    "    shuffle=True,\n",
    ")\n",
    "\n",
    "df_train = pd.concat([X_train, y_train], axis=1)\n",
    "df_val = pd.concat([X_val, y_val], axis=1)"
   ]
  },
  {
   "cell_type": "markdown",
   "metadata": {},
   "source": [
    "## Cas 1 : FastText "
   ]
  },
  {
   "cell_type": "code",
   "execution_count": null,
   "metadata": {},
   "outputs": [],
   "source": [
    "def write_training_data(\n",
    "    df: pd.DataFrame,\n",
    "    y: str,\n",
    "    text_feature: str,\n",
    "    categorical_features: Optional[List[str]],\n",
    "    label_prefix: str = \"__label__\",\n",
    ") -> str:\n",
    "    \"\"\"\n",
    "    Write training data to file.\n",
    "\n",
    "    Args:\n",
    "        df (pd.DataFrame): DataFrame.\n",
    "        y (str): Output variable name.\n",
    "        text_feature (str): Text feature.\n",
    "        categorical_features (Optional[List[str]]): Categorical features.\n",
    "        label_prefix (str, optional): Label prefix. Defaults to \"__label__\".\n",
    "\n",
    "    Returns:\n",
    "        str: Training data path.\n",
    "    \"\"\"\n",
    "    training_data_path = Path(\"data/training_data.txt\")\n",
    "\n",
    "    with open(training_data_path, \"w\", encoding=\"utf-8\") as file:\n",
    "        for _, item in df.iterrows():\n",
    "            formatted_item = f\"{label_prefix}{item[y]} {item[text_feature]}\"\n",
    "            if categorical_features != []:\n",
    "                for feature in categorical_features:\n",
    "                    formatted_item += f\" {feature}_{item[feature]}\"\n",
    "            file.write(f\"{formatted_item}\\n\")\n",
    "    return training_data_path.as_posix()"
   ]
  },
  {
   "cell_type": "code",
   "execution_count": null,
   "metadata": {},
   "outputs": [],
   "source": [
    "# Write training data in a .txt file (fasttext-specific)\n",
    "training_data_path = write_training_data(\n",
    "    df=df_train,\n",
    "    y=params[\"y_name\"],\n",
    "    text_feature=params[\"text_feature\"],\n",
    "    categorical_features=[],\n",
    ")\n"
   ]
  },
  {
   "cell_type": "code",
   "execution_count": null,
   "metadata": {},
   "outputs": [],
   "source": [
    "# Train the fasttext model\n",
    "model = fasttext.train_supervised(\n",
    "    input=training_data_path,\n",
    "    dim=params[\"dim\"],\n",
    "    lr=params[\"lr\"],\n",
    "    epoch=params[\"max_epochs\"],\n",
    "    wordNgrams=params[\"wordNgrams\"],\n",
    "    minn=params[\"minn\"],\n",
    "    maxn=params[\"maxn\"],\n",
    "    minCount=params[\"minCount\"],\n",
    "    bucket=params[\"buckets\"],\n",
    "    thread=params[\"ft_thread\"],\n",
    "    loss=params[\"ft_loss\"],\n",
    "    label_prefix=\"__label__\",\n",
    "    verbose=2\n",
    ")"
   ]
  }
 ],
 "metadata": {
  "kernelspec": {
   "display_name": "base",
   "language": "python",
   "name": "python3"
  },
  "language_info": {
   "codemirror_mode": {
    "name": "ipython",
    "version": 3
   },
   "file_extension": ".py",
   "mimetype": "text/x-python",
   "name": "python",
   "nbconvert_exporter": "python",
   "pygments_lexer": "ipython3",
   "version": "3.12.6"
  }
 },
 "nbformat": 4,
 "nbformat_minor": 2
}
